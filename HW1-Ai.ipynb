{
 "cells": [
  {
   "cell_type": "markdown",
   "id": "27ddb346",
   "metadata": {},
   "source": [
    "### Problem 0 ###"
   ]
  },
  {
   "cell_type": "markdown",
   "id": "f7cd1cfe",
   "metadata": {},
   "source": [
    "<span style='font-family:\"Times New Roman\"'> <span styel=''> This is *question 0* is for <font color='red'> [problem set 1](https://jbhender.github.io/Stats507/F21/ps/ps1.html)</font> <span style='font-family:\"Times New Roman\"'> of [Stats 507](https://jbhender.github.io/Stats507/F21/).\n",
    "    \n",
    ">**<span style='font-family:\"Times New Roman\"'> <font size = 4> Question 0 is about Markdown. </font>**\n",
    "\n",
    "<span style='font-family:\"Times New Roman\"'> The next question is about the **Fibonacci sequence**, $F_n = F_{n-1} + F_{n-2}$. In part **a** we will define a Python function `fib_rec`.\n",
    "\n",
    "<span style='font-family:\"Times New Roman\"'> Below is a ...\n",
    "\n",
    "### Level 3 Header\n",
    "\n",
    "<span style='font-family:\"Times New Roman\"'> Next, we can make a bullest list: \n",
    "* <span style='font-family:\"Times New Roman\"'> Item 1\n",
    " * <span style='font-family:\"Times New Roman\"'>detail 1 \n",
    " * <span style='font-family:\"Times New Roman\"'>detail 2\n",
    "* <span style='font-family:\"Times New Roman\"'> Item 2\n",
    "\n",
    "<span style='font-family:\"Times New Roman\"'> Finally, we can make an enumerated list:\n",
    "1. <span style='font-family:\"Times New Roman\"'>Item 1\n",
    "2. <span style='font-family:\"Times New Roman\"'>Item 2\n",
    "3. <span style='font-family:\"Times New Roman\"'>Item 3\n",
    "\n",
    "\n"
   ]
  },
  {
   "cell_type": "code",
   "execution_count": 1,
   "id": "8bfc9915",
   "metadata": {},
   "outputs": [],
   "source": [
    "import numpy as np\n",
    "from math import sqrt\n",
    "import pandas as pd\n",
    "from collections import defaultdict\n",
    "from timeit import Timer"
   ]
  },
  {
   "cell_type": "markdown",
   "id": "2d10b859",
   "metadata": {},
   "source": [
    "### Problem 1 ###"
   ]
  },
  {
   "cell_type": "code",
   "execution_count": 2,
   "id": "5b9bcecb",
   "metadata": {},
   "outputs": [
    {
     "name": "stdout",
     "output_type": "stream",
     "text": [
      "13\n",
      "89\n",
      "233\n"
     ]
    }
   ],
   "source": [
    "def fib_rec(n,a = 0,b = 1):\n",
    "    \"\"\"\n",
    "    Use recursive function to return the value of Fn with Fa=0 and Fb = 1.\n",
    "\n",
    "    Parameters\n",
    "    ----------\n",
    "    n : int TYPE\n",
    "        the number of the sequence.\n",
    "    a : int TYPE\n",
    "        The default is 0.\n",
    "    b : int TYPE\n",
    "        The default is 1.\n",
    "\n",
    "    Returns\n",
    "    -------\n",
    "    int TYPE\n",
    "        The value of F(n)\n",
    "\n",
    "    \"\"\"\n",
    "    if n == 0 :\n",
    "        return a\n",
    "    if n == 1:\n",
    "        return b\n",
    "    else:\n",
    "        return fib_rec(n-1,a,b)+fib_rec(n-2,a,b)\n",
    "print(fib_rec(7))\n",
    "print(fib_rec(11))\n",
    "print(fib_rec(13))"
   ]
  },
  {
   "cell_type": "code",
   "execution_count": 3,
   "id": "e0402bb3",
   "metadata": {},
   "outputs": [
    {
     "name": "stdout",
     "output_type": "stream",
     "text": [
      "13\n",
      "89\n",
      "233\n"
     ]
    }
   ],
   "source": [
    "def fib_for(n,a =0,b =1):\n",
    "    \"\"\"\n",
    "    Computes Fn by summation using a for loop.\n",
    "\n",
    "    Parameters\n",
    "    ----------\n",
    "    n : int TYPE\n",
    "        the number of sequence\n",
    "    a : int TYPE\n",
    "        the default is 0\n",
    "    b : int TYPE\n",
    "        the default is 1\n",
    "\n",
    "    Returns\n",
    "    -------\n",
    "    x : int TYPE\n",
    "        the value of Fn\n",
    "\n",
    "    \"\"\"\n",
    "    x, y = a, b\n",
    "    for i in range(n):\n",
    "        x, y = y , x + y\n",
    "    return x\n",
    "print(fib_for(7))\n",
    "print(fib_for(11))\n",
    "print(fib_for(13))"
   ]
  },
  {
   "cell_type": "code",
   "execution_count": 4,
   "id": "1c7d9707",
   "metadata": {},
   "outputs": [
    {
     "name": "stdout",
     "output_type": "stream",
     "text": [
      "13\n",
      "89\n",
      "233\n"
     ]
    }
   ],
   "source": [
    "def fib_whl(n, a=0, b=1):\n",
    "    \"\"\"\n",
    "    Computes Fn by summation using a while loop.\n",
    "\n",
    "    Parameters\n",
    "    ----------\n",
    "    n : int TYPE\n",
    "        the number of the sequence.\n",
    "    a : int TYPE\n",
    "        the default is 0\n",
    "    b : int TYPE\n",
    "        the default is 1\n",
    "\n",
    "    Returns\n",
    "    -------\n",
    "    x : int TYPE\n",
    "        the value of Fn\n",
    "\n",
    "    \"\"\"\n",
    "    x, y = a, b\n",
    "    while n > 0:\n",
    "        x, y = y, x + y\n",
    "        n = n - 1\n",
    "    return x\n",
    "print(fib_whl(7))\n",
    "print(fib_whl(11))\n",
    "print(fib_whl(13))"
   ]
  },
  {
   "cell_type": "code",
   "execution_count": 5,
   "id": "301b524f",
   "metadata": {},
   "outputs": [
    {
     "name": "stdout",
     "output_type": "stream",
     "text": [
      "13\n",
      "89\n",
      "233\n"
     ]
    }
   ],
   "source": [
    "def fib_rnd(n):\n",
    "    \"\"\"\n",
    "    Computes Fn using the rounding method \n",
    "\n",
    "    Parameters\n",
    "    ----------\n",
    "    n : int TYPE\n",
    "        the number of the Fibonacci Sequence Fn\n",
    "\n",
    "    Returns\n",
    "    -------\n",
    "    int TYPE\n",
    "        the value of Fn\n",
    "\n",
    "    \"\"\"\n",
    "    if n >= 0: \n",
    "        return round((((1+sqrt(5))/2)**n)/sqrt(5))\n",
    "print(fib_rnd(7))\n",
    "print(fib_rnd(11))\n",
    "print(fib_rnd(13))"
   ]
  },
  {
   "cell_type": "code",
   "execution_count": 6,
   "id": "dcd214e6",
   "metadata": {},
   "outputs": [
    {
     "name": "stdout",
     "output_type": "stream",
     "text": [
      "13\n",
      "89\n",
      "233\n"
     ]
    }
   ],
   "source": [
    "def fib_flr(n):\n",
    "    \"\"\"\n",
    "    Computes Fn using the truncation method\n",
    "\n",
    "    Parameters\n",
    "    ----------\n",
    "    n : int TYPE\n",
    "        the number of the Fibonacci Sequence Fn\n",
    "\n",
    "    Returns\n",
    "    -------\n",
    "    int TYPE\n",
    "        the value of Fn\n",
    "\n",
    "    \"\"\"\n",
    "    if n>= 0:\n",
    "        return int((((1+sqrt(5))/2)**n)/sqrt(5)+(1/2))\n",
    "print(fib_flr(7))\n",
    "print(fib_flr(11))\n",
    "print(fib_flr(13))"
   ]
  },
  {
   "cell_type": "code",
   "execution_count": 7,
   "id": "88061d67",
   "metadata": {},
   "outputs": [
    {
     "name": "stdout",
     "output_type": "stream",
     "text": [
      "[20, 22, 24, 26, 28]\n",
      "Function     fib_flr     fib_for     fib_rec     fib_rnd     fib_whl\n",
      "n                                                                   \n",
      "20        0.00000120  0.00000315  0.00655190  0.00000130  0.00000430\n",
      "22        0.00000120  0.00000330  0.01582855  0.00000130  0.00000475\n",
      "24        0.00000120  0.00000355  0.04258895  0.00000130  0.00000505\n",
      "26        0.00000120  0.00000370  0.10617820  0.00000130  0.00000345\n",
      "28        0.00000120  0.00000400  0.29102390  0.00000130  0.00000390\n"
     ]
    }
   ],
   "source": [
    "N = list(range(20,30,2))\n",
    "print(N)\n",
    "\n",
    "time_lst = defaultdict(list)\n",
    "for f in [fib_rec, fib_for, fib_whl, fib_rnd, fib_flr]:\n",
    "    for i in N:\n",
    "        t = Timer('f(i)', globals={'f': f, 'i': i})\n",
    "        tm = t.repeat(repeat=10, number=1)\n",
    "        time_lst['Function'].append(f.__name__)\n",
    "        time_lst['n'].append(i)\n",
    "        time_lst['median, s'].append(np.median(tm))\n",
    "\n",
    "time_lst = pd.DataFrame(time_lst)\n",
    "for c, d in zip(time_lst.columns, time_lst.dtypes):\n",
    "    if d == np.dtype('float64'):\n",
    "        time_lst[c] = time_lst[c].map(lambda x: '%5.8f' % x)\n",
    "\n",
    "print(time_lst.pivot(columns = 'Function', index = 'n', values = 'median, s'))"
   ]
  },
  {
   "cell_type": "markdown",
   "id": "36a94826",
   "metadata": {},
   "source": [
    "### Problem 2 ###"
   ]
  },
  {
   "cell_type": "code",
   "execution_count": 8,
   "id": "4dc03ddb",
   "metadata": {},
   "outputs": [
    {
     "name": "stdout",
     "output_type": "stream",
     "text": [
      "[1]\n",
      "[1, 9, 36, 84, 126, 126, 84, 36, 9, 1]\n"
     ]
    }
   ],
   "source": [
    "def tr(n):\n",
    "    \"\"\"\n",
    "    Write a function to compute a specified row of Pascal’s triangle.\n",
    "\n",
    "    Parameters\n",
    "    ----------\n",
    "    n : int TYPE\n",
    "        the number of rows of Pascal’s Triangle.\n",
    "\n",
    "    Returns\n",
    "    -------\n",
    "    L : list TYPE\n",
    "        The exactly row of a Pascal’s Triangle \n",
    "\n",
    "    \"\"\"\n",
    "    L = list(range(n+1))\n",
    "    L[0] = 1\n",
    "    for k in range(1,n+1):\n",
    "        L[k]=int(L[k-1]*((n+1-k)/k))\n",
    "    return L\n",
    "print(tr(0))\n",
    "print(tr(9))"
   ]
  },
  {
   "cell_type": "code",
   "execution_count": 9,
   "id": "a711996f",
   "metadata": {},
   "outputs": [
    {
     "name": "stdout",
     "output_type": "stream",
     "text": [
      "         1\n",
      "        1 1\n",
      "       1 2 1\n",
      "      1 3 3 1\n",
      "     1 4 6 4 1\n",
      "    1 5 10 10 5 1\n",
      "   1 6 15 20 15 6 1\n",
      "  1 7 21 35 35 21 7 1\n",
      " 1 8 28 56 70 56 28 8 1\n",
      "1 9 36 84 126 126 84 36 9 1\n"
     ]
    }
   ],
   "source": [
    "def pt(n):\n",
    "    \"\"\"\n",
    "    Write a function for printing the first n rows of Pascal’s triangle\n",
    "\n",
    "    Parameters\n",
    "    ----------\n",
    "    n : int TYPE\n",
    "        the total number of the rows of the Pascal’s triangle\n",
    "\n",
    "    Returns\n",
    "    -------\n",
    "    None.\n",
    "\n",
    "    \"\"\"\n",
    "    if n == 1:\n",
    "        print(1)\n",
    "    else:\n",
    "        for i in range(0,n):\n",
    "            line = tr(i) \n",
    "            print(' '* (n-i-1) + ' '.join(map(str,line)))\n",
    "    return\n",
    "\n",
    "pt(10)"
   ]
  },
  {
   "cell_type": "markdown",
   "id": "d4927114",
   "metadata": {},
   "source": [
    "### Problem 3 ###"
   ]
  },
  {
   "cell_type": "code",
   "execution_count": 11,
   "id": "3f897f56",
   "metadata": {},
   "outputs": [
    {
     "name": "stdout",
     "output_type": "stream",
     "text": [
      "<class 'numpy.ndarray'>\n",
      "3.0[95.0%CI:(1.166,4.834)]\n"
     ]
    },
    {
     "data": {
      "text/plain": [
       "2.5935164297884388"
      ]
     },
     "execution_count": 11,
     "metadata": {},
     "output_type": "execute_result"
    }
   ],
   "source": [
    "import numpy as np\n",
    "import scipy.stats as stats\n",
    "from scipy.stats import sem\n",
    "import math\n",
    "\n",
    "\n",
    "def function_a(data, level, ci_format, flag = []):\n",
    "    \"\"\"\n",
    "    A function to return a point and interval estimate for the mean.\n",
    "\n",
    "    Parameters\n",
    "    ----------\n",
    "    data : array TYPE\n",
    "        The previous input of the dataset.\n",
    "    level : int TYPE\n",
    "        Confidence Level. Used to find the interval.\n",
    "    ci_format : type\n",
    "        The format of output of the value\n",
    "    flag : TYPE, optional\n",
    "        Dictionary. The default is [].\n",
    "\n",
    "    Raises\n",
    "    ------\n",
    "    TypeError\n",
    "        If the input data is not np.ndarray\n",
    "\n",
    "    Returns\n",
    "    -------\n",
    "    The ouptput of a point and interval estimate for the mean.\n",
    "        \n",
    "\n",
    "    \"\"\"\n",
    "    if type (data)!= np.ndarray:\n",
    "        raise TypeError\n",
    "    else:\n",
    "        xbar = np.mean(data)\n",
    "        z = stats.norm.ppf(1-(level/2)*0.01)\n",
    "        se = stats.sem(data)\n",
    "        low_interval = format(xbar - z * se, '.3f')\n",
    "        high_interval = format(xbar + z * se, '.3f')\n",
    "        mean = format(xbar)\n",
    "    if flag!= None:\n",
    "        return str(xbar)+\"[\"+str(level*100)+\"%\"+\"CI:\"+\"(\"+str(low_interval)+\",\"+str(high_interval)+\")\"+\"]\"\n",
    "    else: \n",
    "        a_format = {\"est\": xbar, \"lwr\":low_interval, \"upr\": high_intrtval, \"level\":level}\n",
    "# check\n",
    "data = np.array([1,2,3,4,5])\n",
    "print(type(data))\n",
    "print(function_a(data, 0.95, None))\n",
    "z = stats.norm.ppf(1-(0.95/2)*0.01)\n",
    "z"
   ]
  },
  {
   "cell_type": "code",
   "execution_count": 148,
   "id": "55f332f3",
   "metadata": {},
   "outputs": [
    {
     "name": "stdout",
     "output_type": "stream",
     "text": [
      "0.5[95.0%CI:(0.31903835688234616,0.6809616431176538)]\n",
      "0.5[95.0%CI:(0.341947577050962,0.658052422949038)]\n",
      "0.5[95.0%CI:(0.3530224021755385,0.6469775978244615)]\n",
      "0.5[95.0%CI:(0.32984001321886836,0.6701599867811316)]\n"
     ]
    }
   ],
   "source": [
    "import numpy as np\n",
    "import scipy.stats as stats\n",
    "from scipy.stats import sem\n",
    "import math\n",
    "\n",
    "def function_b(data, level, flag=[], method=[]):\n",
    "    if type (data)!= np.ndarray:\n",
    "        raise TypeError\n",
    "    if method == \"Normal\":\n",
    "        p = np.mean(data)\n",
    "        n = len(data)\n",
    "        if n*p<=12 or n*(1-p) <=12:\n",
    "            raise ValueError(\"n*p or n*(1-p)<=12\")\n",
    "        z = stats.norm.ppf(1- level*0.01)\n",
    "        low = p - z * sqrt(p*(1-p)/n)\n",
    "        high = p + z * sqrt(p*(1-p)/n)\n",
    "        if flag!= None:\n",
    "            return str(p)+\"[\"+str(level*100)+\"%\"+\"CI:\"+\"(\"+str(low)+\",\"+str(high)+\")\"+\"]\"\n",
    "        else:\n",
    "            return {\"est\":p, \"lwr\":low, \"upr\":high, \"level\":level}\n",
    "    if method == \"Beta\":\n",
    "        mean = np.mean(data)\n",
    "        alpha = 1 - level\n",
    "        n = len(data)\n",
    "        x = data.sum()\n",
    "        low = stats.beta.ppf(alpha/2,x,n-x+1)\n",
    "        high = stats.beta.ppf(1-alpha/2,x+1,n-x)\n",
    "        if flag!= None:\n",
    "            return str(mean)+\"[\"+str(level*100)+\"%\"+\"CI:\"+\"(\"+str(low)+\",\"+str(high)+\")\"+\"]\"\n",
    "        else:\n",
    "            return {\"est\":mean, \"lwr\":low, \"upr\":high, \"level\":level}\n",
    "    if method == \"Bayesian\":\n",
    "        mean = np.mean(data)\n",
    "        alpha = 1-level\n",
    "        n = len(data)\n",
    "        x = data.sum()\n",
    "        low = stats.beta.ppf(alpha/2,x+0.5,n-x+0.5)\n",
    "        high = stats.beta.ppf(1-alpha/2,x+0.5, n-x+0.5)\n",
    "        if flag!= None:\n",
    "            return str(mean)+\"[\"+str(level*100)+\"%\"+\"CI:\"+\"(\"+str(low)+\",\"+str(high)+\")\"+\"]\"\n",
    "        else:\n",
    "            return {\"est\":mean, \"lwr\":low, \"upr\":high, \"level\":level}\n",
    "    if method == \"Agresti-Coull\":\n",
    "        z = stats.norm.ppf(1- level*0.01)\n",
    "        n = len(data) + z**2\n",
    "        x = data.sum()\n",
    "        p = (x + z**2/2)/n\n",
    "        low = p - z*(np.sqrt(p*(1-p)/n))\n",
    "        high = p + z*(np.sqrt(p*(1-p)/n))\n",
    "        if flag!= None:\n",
    "            return str(p)+\"[\"+str(level*100)+\"%\"+\"CI:\"+\"(\"+str(low)+\",\"+str(high)+\")\"+\"]\"\n",
    "        else:\n",
    "            return {\"est\":p, \"lwr\":low, \"upr\":high, \"level\":level}\n",
    "#check\n",
    "data = np.array([0,0,0,0,0,1,1,1,1,1,1,1,1,1,1,1,1,1,1,0,0,0,0,1,0,0,0,0,0,0,1,1,0,0,0,1,1,0,0,1,0,1])\n",
    "print(function_b(data, 0.95, 1, method = \"Normal\"))\n",
    "print(function_b(data, 0.95, 1, method = \"Beta\"))\n",
    "print(function_b(data, 0.95, 1, method = \"Bayesian\"))  \n",
    "print(function_b(data, 0.95, 1, method = \"Agresti-Coull\"))        \n",
    "        \n",
    "        \n",
    "        "
   ]
  },
  {
   "cell_type": "code",
   "execution_count": 149,
   "id": "c16c4776",
   "metadata": {
    "lines_to_next_cell": 2
   },
   "outputs": [
    {
     "name": "stdout",
     "output_type": "stream",
     "text": [
      "                                                               90.0%CI\n",
      "Normal                          0.467[90.0%CI(0.342,0.591)]width=0.249\n",
      "Beta                            0.467[90.0%CI(0.376,0.559)]width=0.182\n",
      "Bayesian                        0.467[90.0%CI(0.382,0.553)]width=0.171\n",
      "Agresti-Coull                   0.469[90.0%CI(0.348,0.589)]width=0.241\n",
      "                                                               95.0%CI\n",
      "Normal                          0.467[95.0%CI(0.343,0.590)]width=0.247\n",
      "Beta                            0.467[95.0%CI(0.361,0.575)]width=0.214\n",
      "Bayesian                        0.467[95.0%CI(0.366,0.569)]width=0.203\n",
      "Agresti-Coull                   0.469[95.0%CI(0.349,0.588)]width=0.240\n",
      "                                                               99.0%CI\n",
      "Normal                          0.467[99.0%CI(0.344,0.589)]width=0.245\n",
      "Beta                            0.467[99.0%CI(0.331,0.606)]width=0.276\n",
      "Bayesian                        0.467[99.0%CI(0.336,0.601)]width=0.265\n",
      "Agresti-Coull                   0.469[99.0%CI(0.350,0.588)]width=0.238\n"
     ]
    }
   ],
   "source": [
    "data = np.array([1 for i in range(42)]+[0 for j in range(48)])\n",
    "levels = [0.9,0.95,0.99]\n",
    "methods = [\"Normal\",\"Beta\", \"Bayesian\", \"Agresti-Coull\" ]\n",
    "for level in levels:\n",
    "    print(\"{:>70}\".format(str(level*100) + \"%\" + \"CI\"))\n",
    "    for y in methods:\n",
    "        dict1= function_b(data, level, None, y)\n",
    "        est1 ,lwr1, upr1, wid1= dict1[\"est\"], dict1[\"lwr\"], dict1[\"upr\"],dict1[\"upr\"] - dict1[\"lwr\"]\n",
    "        est2, lwr2, upr2, wid2 = \"{:.3f}\".format(est1),\"{:.3f}\".format(lwr1),\"{:.3f}\".format(upr1),\"{:.3f}\".format(wid1)\n",
    "        print(\"{:<20}{:>50}\".format(y, est2+\"[\"+str(level*100)+\"%\"+\"CI\"+\"(\"+lwr2 +\",\"+ upr2 +\")\"+\"]\"+\"width=\"+wid2))"
   ]
  },
  {
   "cell_type": "code",
   "execution_count": null,
   "id": "113d1672",
   "metadata": {},
   "outputs": [],
   "source": []
  },
  {
   "cell_type": "code",
   "execution_count": null,
   "id": "106985c4",
   "metadata": {},
   "outputs": [],
   "source": []
  }
 ],
 "metadata": {
  "jupytext": {
   "encoding": "# -*- coding: utf-8 -*-",
   "formats": "ipynb,py:percent,md"
  },
  "kernelspec": {
   "display_name": "Python 3",
   "language": "python",
   "name": "python3"
  },
  "language_info": {
   "codemirror_mode": {
    "name": "ipython",
    "version": 3
   },
   "file_extension": ".py",
   "mimetype": "text/x-python",
   "name": "python",
   "nbconvert_exporter": "python",
   "pygments_lexer": "ipython3",
   "version": "3.8.8"
  }
 },
 "nbformat": 4,
 "nbformat_minor": 5
}
