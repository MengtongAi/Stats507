{
 "cells": [
  {
   "cell_type": "code",
   "execution_count": 175,
   "id": "logical-minutes",
   "metadata": {
    "ExecuteTime": {
     "end_time": "2021-11-13T07:39:26.136321Z",
     "start_time": "2021-11-13T07:39:26.122291Z"
    }
   },
   "outputs": [],
   "source": [
    "from sklearn.model_selection import train_test_split\n",
    "from sklearn.linear_model import ElasticNet\n",
    "from sklearn.ensemble import RandomForestRegressor\n",
    "from sklearn.ensemble import GradientBoostingRegressor\n",
    "from sklearn.model_selection import cross_val_score\n",
    "from sklearn.model_selection import GridSearchCV\n",
    "from sklearn.metrics import mean_squared_error\n",
    "import  matplotlib.pyplot as plt\n",
    "import pandas as pd\n",
    "import numpy as np\n",
    "import warnings\n",
    "warnings.filterwarnings('ignore')"
   ]
  },
  {
   "cell_type": "markdown",
   "id": "distributed-attachment",
   "metadata": {},
   "source": [
    "# Question 0"
   ]
  },
  {
   "cell_type": "code",
   "execution_count": 145,
   "id": "cutting-howard",
   "metadata": {
    "ExecuteTime": {
     "end_time": "2021-11-13T06:48:27.648618Z",
     "start_time": "2021-11-13T06:48:27.641569Z"
    }
   },
   "outputs": [],
   "source": [
    "def split_x_y(data,label):\n",
    "    x=data.drop(label,axis=1)\n",
    "    y=data[label]\n",
    "    return x.values,y.values"
   ]
  },
  {
   "cell_type": "code",
   "execution_count": 146,
   "id": "amended-removal",
   "metadata": {
    "ExecuteTime": {
     "end_time": "2021-11-13T06:48:28.438572Z",
     "start_time": "2021-11-13T06:48:28.131629Z"
    }
   },
   "outputs": [],
   "source": [
    "data=pd.read_csv(\"./train.csv\")\n",
    "cols=data.columns\n",
    "# y=data['critical_temp']\n",
    "n_of_ele=data['number_of_elements']\n",
    "train,test_valid=train_test_split(data,test_size=0.2,shuffle=True,stratify=n_of_ele)\n",
    "n_of_ele=test_valid['number_of_elements']\n",
    "test,valid=train_test_split(test_valid,test_size=0.5,shuffle=True,stratify=n_of_ele)"
   ]
  },
  {
   "cell_type": "markdown",
   "id": "coordinate-bangladesh",
   "metadata": {},
   "source": [
    "# Question 1"
   ]
  },
  {
   "cell_type": "markdown",
   "id": "amber-wallace",
   "metadata": {},
   "source": [
    "## part a"
   ]
  },
  {
   "cell_type": "code",
   "execution_count": 147,
   "id": "analyzed-inspection",
   "metadata": {
    "ExecuteTime": {
     "end_time": "2021-11-13T06:49:25.958430Z",
     "start_time": "2021-11-13T06:48:29.345839Z"
    }
   },
   "outputs": [
    {
     "data": {
      "text/plain": [
       "GridSearchCV(cv=10, estimator=ElasticNet(),\n",
       "             param_grid=[{'l1_ratio': [0.0, 0.1, 0.2, 0.30000000000000004, 0.4,\n",
       "                                       0.5, 0.6000000000000001,\n",
       "                                       0.7000000000000001, 0.8, 0.9]}],\n",
       "             scoring='neg_mean_squared_error')"
      ]
     },
     "execution_count": 147,
     "metadata": {},
     "output_type": "execute_result"
    }
   ],
   "source": [
    "# if set normalize=False,the objective dont converge\n",
    "model=ElasticNet(normalize=True)\n",
    "train_x,train_y=split_x_y(train,'critical_temp')\n",
    "param=[\n",
    "    {'l1_ratio':list(np.arange(0.,1,0.1))}\n",
    "]\n",
    "grida=GridSearchCV(ElasticNet(),param,cv=10,scoring='neg_mean_squared_error')\n",
    "grida.fit(train_x,train_y)"
   ]
  },
  {
   "cell_type": "code",
   "execution_count": 148,
   "id": "eligible-uncertainty",
   "metadata": {
    "ExecuteTime": {
     "end_time": "2021-11-13T06:49:26.491733Z",
     "start_time": "2021-11-13T06:49:26.366093Z"
    }
   },
   "outputs": [
    {
     "data": {
      "text/plain": [
       "[<matplotlib.lines.Line2D at 0x24bb1480490>]"
      ]
     },
     "execution_count": 148,
     "metadata": {},
     "output_type": "execute_result"
    },
    {
     "data": {
      "image/png": "[encoded data removed]",
      "text/plain": [
       "<Figure size 432x288 with 1 Axes>"
      ]
     },
     "metadata": {
      "needs_background": "light"
     },
     "output_type": "display_data"
    }
   ],
   "source": [
    "param=grida.cv_results_['params']\n",
    "score=grida.cv_results_['mean_test_score']\n",
    "param=[i['l1_ratio']for i in param]\n",
    "plt.plot(param,score)"
   ]
  },
  {
   "cell_type": "code",
   "execution_count": 149,
   "id": "surface-enforcement",
   "metadata": {
    "ExecuteTime": {
     "end_time": "2021-11-13T06:49:31.087042Z",
     "start_time": "2021-11-13T06:49:31.069979Z"
    }
   },
   "outputs": [
    {
     "data": {
      "text/plain": [
       "ElasticNet(l1_ratio=0.0)"
      ]
     },
     "execution_count": 149,
     "metadata": {},
     "output_type": "execute_result"
    }
   ],
   "source": [
    "grida.best_estimator_"
   ]
  },
  {
   "cell_type": "markdown",
   "id": "characteristic-riding",
   "metadata": {},
   "source": [
    "## part b"
   ]
  },
  {
   "cell_type": "code",
   "execution_count": 151,
   "id": "consistent-market",
   "metadata": {
    "ExecuteTime": {
     "end_time": "2021-11-13T06:59:01.841050Z",
     "start_time": "2021-11-13T06:49:52.079586Z"
    }
   },
   "outputs": [
    {
     "data": {
      "text/plain": [
       "GridSearchCV(cv=10, estimator=RandomForestRegressor(),\n",
       "             param_grid=[{'max_depth': [30, 33, 36, 39],\n",
       "                          'n_estimators': [1, 3, 5, 7, 9]}],\n",
       "             scoring='neg_mean_squared_error')"
      ]
     },
     "execution_count": 151,
     "metadata": {},
     "output_type": "execute_result"
    }
   ],
   "source": [
    "model=RandomForestRegressor()\n",
    "param=[\n",
    "    {'n_estimators':list(range(1,10,2)),'max_depth':list(range(30,40,3))}\n",
    "]\n",
    "gridb=GridSearchCV(model,param,cv=10,scoring='neg_mean_squared_error')\n",
    "gridb.fit(train_x,train_y)"
   ]
  },
  {
   "cell_type": "code",
   "execution_count": 152,
   "id": "complimentary-lewis",
   "metadata": {
    "ExecuteTime": {
     "end_time": "2021-11-13T07:24:21.892507Z",
     "start_time": "2021-11-13T07:24:21.871538Z"
    }
   },
   "outputs": [
    {
     "data": {
      "text/plain": [
       "{'mean_fit_time': array([0.54626539, 1.62882752, 2.70280342, 3.77028611, 4.84544783,\n",
       "        0.54852326, 1.61905618, 2.68366613, 3.49480157, 4.84928064,\n",
       "        0.59577663, 1.72016122, 2.76334608, 3.77837296, 4.93686943,\n",
       "        0.54069192, 1.62210472, 2.75074427, 3.83038826, 5.0725704 ]),\n",
       " 'std_fit_time': array([0.02423505, 0.03388127, 0.04223539, 0.03981683, 0.06317586,\n",
       "        0.01213594, 0.03789019, 0.03965465, 0.82079763, 0.03823633,\n",
       "        0.02813696, 0.06903303, 0.05472156, 0.2091813 , 0.10687015,\n",
       "        0.01564775, 0.0362759 , 0.13959097, 0.07635097, 0.20198345]),\n",
       " 'mean_score_time': array([0.00140488, 0.00259924, 0.00320761, 0.00431128, 0.00520403,\n",
       "        0.00163116, 0.00230153, 0.00329747, 0.00478847, 0.00530581,\n",
       "        0.00189483, 0.00270731, 0.00340354, 0.00460527, 0.00600703,\n",
       "        0.00130379, 0.00219672, 0.00349798, 0.0043592 , 0.00627382]),\n",
       " 'std_score_time': array([0.00048981, 0.00066928, 0.00039667, 0.00045052, 0.00038949,\n",
       "        0.00048684, 0.00046593, 0.00045363, 0.00115473, 0.00089865,\n",
       "        0.00104261, 0.00079295, 0.00047633, 0.00102831, 0.00148058,\n",
       "        0.00046358, 0.00040259, 0.0009157 , 0.00088372, 0.00153964]),\n",
       " 'param_max_depth': masked_array(data=[30, 30, 30, 30, 30, 33, 33, 33, 33, 33, 36, 36, 36, 36,\n",
       "                    36, 39, 39, 39, 39, 39],\n",
       "              mask=[False, False, False, False, False, False, False, False,\n",
       "                    False, False, False, False, False, False, False, False,\n",
       "                    False, False, False, False],\n",
       "        fill_value='?',\n",
       "             dtype=object),\n",
       " 'param_n_estimators': masked_array(data=[1, 3, 5, 7, 9, 1, 3, 5, 7, 9, 1, 3, 5, 7, 9, 1, 3, 5,\n",
       "                    7, 9],\n",
       "              mask=[False, False, False, False, False, False, False, False,\n",
       "                    False, False, False, False, False, False, False, False,\n",
       "                    False, False, False, False],\n",
       "        fill_value='?',\n",
       "             dtype=object),\n",
       " 'params': [{'max_depth': 30, 'n_estimators': 1},\n",
       "  {'max_depth': 30, 'n_estimators': 3},\n",
       "  {'max_depth': 30, 'n_estimators': 5},\n",
       "  {'max_depth': 30, 'n_estimators': 7},\n",
       "  {'max_depth': 30, 'n_estimators': 9},\n",
       "  {'max_depth': 33, 'n_estimators': 1},\n",
       "  {'max_depth': 33, 'n_estimators': 3},\n",
       "  {'max_depth': 33, 'n_estimators': 5},\n",
       "  {'max_depth': 33, 'n_estimators': 7},\n",
       "  {'max_depth': 33, 'n_estimators': 9},\n",
       "  {'max_depth': 36, 'n_estimators': 1},\n",
       "  {'max_depth': 36, 'n_estimators': 3},\n",
       "  {'max_depth': 36, 'n_estimators': 5},\n",
       "  {'max_depth': 36, 'n_estimators': 7},\n",
       "  {'max_depth': 36, 'n_estimators': 9},\n",
       "  {'max_depth': 39, 'n_estimators': 1},\n",
       "  {'max_depth': 39, 'n_estimators': 3},\n",
       "  {'max_depth': 39, 'n_estimators': 5},\n",
       "  {'max_depth': 39, 'n_estimators': 7},\n",
       "  {'max_depth': 39, 'n_estimators': 9}],\n",
       " 'split0_test_score': array([-172.38893515, -113.31445964, -113.05231387, -104.15927552,\n",
       "        -100.28285888, -169.27639078, -133.33956924, -105.32627686,\n",
       "        -104.0292266 , -101.59516844, -191.31008686, -112.28647874,\n",
       "        -112.57047805, -108.53321524,  -98.40067549, -205.93293302,\n",
       "        -117.17494102, -107.60575665,  -96.63947465, -104.71751107]),\n",
       " 'split1_test_score': array([-168.51081868, -120.64772698, -114.67818616, -101.10653925,\n",
       "         -93.88771285, -169.6237895 , -117.0286504 , -113.11007411,\n",
       "         -92.25185203, -104.34793262, -165.83177769, -116.97409286,\n",
       "        -105.63370239,  -99.52523024, -103.13406101, -205.14183252,\n",
       "        -130.44287321, -123.34294201,  -98.64093838, -103.83582481]),\n",
       " 'split2_test_score': array([-163.32602003, -123.5704246 , -107.43870145,  -99.921221  ,\n",
       "        -101.46051275, -197.3058983 , -115.65194434, -108.95638574,\n",
       "        -105.59801885, -102.92052253, -167.74898249, -121.610412  ,\n",
       "        -114.01848599, -101.2268556 ,  -99.83749009, -191.23232459,\n",
       "        -120.17765214, -112.976535  , -102.96367846, -102.36319305]),\n",
       " 'split3_test_score': array([-160.03535118, -118.45471087, -107.69883092, -103.47976145,\n",
       "         -97.80004544, -167.46554729, -123.23341286, -114.41348572,\n",
       "        -102.10848955, -107.68294748, -195.13352399, -121.89041832,\n",
       "        -104.96361028, -104.929793  , -100.19450921, -176.59582403,\n",
       "        -112.83533064, -115.46766756, -107.69617868, -100.06087358]),\n",
       " 'split4_test_score': array([-204.2897905 , -134.46169551, -122.9512198 , -119.13557922,\n",
       "        -109.4001545 , -188.01619493, -140.15530227, -119.90029025,\n",
       "        -120.93425602, -118.48381443, -196.84444908, -139.38098668,\n",
       "        -120.97898873, -121.16878355, -118.31711671, -179.89834847,\n",
       "        -144.45030209, -129.54615821, -114.6277009 , -119.81286138]),\n",
       " 'split5_test_score': array([-157.21945348, -108.43592647, -102.98347482,  -93.60906881,\n",
       "         -94.72764782, -178.63942277, -107.24108385, -104.80730259,\n",
       "         -99.13624247,  -91.29846005, -200.6671772 , -119.00843735,\n",
       "        -100.68255752,  -93.23865987,  -87.96512006, -164.3301541 ,\n",
       "        -120.59852571, -102.70522784,  -95.99991331,  -93.29075096]),\n",
       " 'split6_test_score': array([-206.87206464, -129.47403474, -114.19722093, -113.37719913,\n",
       "        -105.00519213, -179.96847855, -118.23538774, -116.51017644,\n",
       "        -109.48848513, -114.53762177, -208.39880519, -133.98901483,\n",
       "        -115.89640314, -109.93034966, -108.95011939, -189.80087427,\n",
       "        -142.63928182, -118.77746298, -107.75523346, -107.15304959]),\n",
       " 'split7_test_score': array([-160.07661199, -110.75753218, -101.89646787,  -94.44651188,\n",
       "         -91.23705759, -160.1794283 ,  -99.49925339,  -98.55828934,\n",
       "         -95.29196871,  -93.44501908, -156.17974747, -107.14437583,\n",
       "         -98.68215686,  -94.92612057,  -90.70865476, -183.69779232,\n",
       "        -118.11696786, -106.65628915,  -89.67503979,  -93.57639983]),\n",
       " 'split8_test_score': array([-198.54786942, -128.87251066, -121.17944278, -114.09661364,\n",
       "        -112.98343603, -217.79235421, -126.10499029, -112.49464362,\n",
       "        -115.7665064 , -112.04795283, -215.41732573, -132.60350619,\n",
       "        -116.28840396, -108.46404535, -115.15079021, -234.53967977,\n",
       "        -120.80253272, -129.64796804, -114.04968057, -108.86641972]),\n",
       " 'split9_test_score': array([-154.97087896, -107.3592478 ,  -99.75553027,  -92.42798068,\n",
       "         -86.64722759, -176.69121825, -105.65133434,  -98.21589025,\n",
       "         -88.92498039,  -87.96277992, -179.95959363, -115.96074039,\n",
       "        -100.19516689,  -87.88645809,  -90.82465794, -191.17403165,\n",
       "        -113.25360491,  -95.17548691,  -89.89233824,  -91.6757053 ]),\n",
       " 'mean_test_score': array([-174.6237794 , -119.53482695, -110.58313889, -103.57597506,\n",
       "         -99.34318456, -180.49587229, -118.61409287, -109.22928149,\n",
       "        -103.35300262, -103.43222191, -187.74914693, -122.08484632,\n",
       "        -108.99099538, -102.98295112, -101.34831949, -192.23437947,\n",
       "        -124.04920121, -114.19014944, -101.79401764, -102.53525893]),\n",
       " 'std_test_score': array([19.43187525,  9.02577992,  7.54874746,  8.80691799,  7.77796084,\n",
       "        16.04676275, 11.96871722,  6.99648232,  9.60234651,  9.65883529,\n",
       "        18.56455662,  9.71640482,  7.50264825,  9.20019785,  9.77132   ,\n",
       "        18.43990981, 10.79284302, 10.84549319,  8.63276821,  8.10050004]),\n",
       " 'rank_test_score': array([17, 14, 11,  8,  1, 18, 13, 10,  6,  7, 19, 15,  9,  5,  2, 20, 16,\n",
       "        12,  3,  4])}"
      ]
     },
     "execution_count": 152,
     "metadata": {},
     "output_type": "execute_result"
    }
   ],
   "source": [
    "gridb.cv_results_"
   ]
  },
  {
   "cell_type": "code",
   "execution_count": 153,
   "id": "smoking-medicaid",
   "metadata": {
    "ExecuteTime": {
     "end_time": "2021-11-13T07:24:22.421067Z",
     "start_time": "2021-11-13T07:24:22.410067Z"
    }
   },
   "outputs": [],
   "source": [
    "param=gridb.cv_results_['params']\n",
    "score=gridb.cv_results_['mean_test_score']\n",
    "\n",
    "n_est=[i['n_estimators']for i in param]\n",
    "max_depth=[i['max_depth']for i in param]\n"
   ]
  },
  {
   "cell_type": "code",
   "execution_count": 154,
   "id": "confirmed-thunder",
   "metadata": {
    "ExecuteTime": {
     "end_time": "2021-11-13T07:24:23.113544Z",
     "start_time": "2021-11-13T07:24:22.936453Z"
    }
   },
   "outputs": [
    {
     "data": {
      "text/plain": [
       "<matplotlib.colorbar.Colorbar at 0x24bb3802f70>"
      ]
     },
     "execution_count": 154,
     "metadata": {},
     "output_type": "execute_result"
    },
    {
     "data": {
      "image/png": "[encoded data removed]",
      "text/plain": [
       "<Figure size 432x288 with 2 Axes>"
      ]
     },
     "metadata": {
      "needs_background": "light"
     },
     "output_type": "display_data"
    }
   ],
   "source": [
    "plt.scatter(n_est,max_depth,c=score)\n",
    "plt.xlabel(\"num of trees\")\n",
    "plt.ylabel(\"max depth of trees\")\n",
    "plt.colorbar()"
   ]
  },
  {
   "cell_type": "code",
   "execution_count": 155,
   "id": "former-framing",
   "metadata": {
    "ExecuteTime": {
     "end_time": "2021-11-13T07:24:23.599126Z",
     "start_time": "2021-11-13T07:24:23.591007Z"
    }
   },
   "outputs": [
    {
     "data": {
      "text/plain": [
       "RandomForestRegressor(max_depth=30, n_estimators=9)"
      ]
     },
     "execution_count": 155,
     "metadata": {},
     "output_type": "execute_result"
    }
   ],
   "source": [
    "#from the figure we can inference that the more trees, the better the model performance.\n",
    "gridb.best_estimator_\n",
    "#And the best param is (max_depth=33, n_estimators=9)"
   ]
  },
  {
   "cell_type": "markdown",
   "id": "closing-touch",
   "metadata": {},
   "source": [
    "## part c"
   ]
  },
  {
   "cell_type": "code",
   "execution_count": 156,
   "id": "numerical-wheat",
   "metadata": {
    "ExecuteTime": {
     "end_time": "2021-11-13T07:25:24.116636Z",
     "start_time": "2021-11-13T07:24:24.509306Z"
    }
   },
   "outputs": [
    {
     "data": {
      "text/plain": [
       "GridSearchCV(cv=10, estimator=GradientBoostingRegressor(learning_rate=0.05),\n",
       "             param_grid=[{'n_estimators': [1, 3, 5, 7, 9]}],\n",
       "             scoring='neg_mean_squared_error')"
      ]
     },
     "execution_count": 156,
     "metadata": {},
     "output_type": "execute_result"
    }
   ],
   "source": [
    "model=GradientBoostingRegressor(learning_rate=0.05)\n",
    "param=[\n",
    "    {'n_estimators':list(range(1,10,2))}\n",
    "]\n",
    "gridc=GridSearchCV(model,param,cv=10,scoring='neg_mean_squared_error')\n",
    "gridc.fit(train_x,train_y)"
   ]
  },
  {
   "cell_type": "code",
   "execution_count": 157,
   "id": "combined-iraqi",
   "metadata": {
    "ExecuteTime": {
     "end_time": "2021-11-13T07:25:24.519969Z",
     "start_time": "2021-11-13T07:25:24.508360Z"
    }
   },
   "outputs": [
    {
     "data": {
      "text/plain": [
       "{'mean_fit_time': array([0.22752573, 0.66360281, 1.15652339, 1.66553359, 2.0296032 ]),\n",
       " 'std_fit_time': array([0.01056705, 0.02625554, 0.06697543, 0.14899418, 0.08044066]),\n",
       " 'mean_score_time': array([0.00119524, 0.00108552, 0.00119987, 0.00119631, 0.00159545]),\n",
       " 'std_score_time': array([0.00086747, 0.00030282, 0.00039994, 0.00040455, 0.00066191]),\n",
       " 'param_n_estimators': masked_array(data=[1, 3, 5, 7, 9],\n",
       "              mask=[False, False, False, False, False],\n",
       "        fill_value='?',\n",
       "             dtype=object),\n",
       " 'params': [{'n_estimators': 1},\n",
       "  {'n_estimators': 3},\n",
       "  {'n_estimators': 5},\n",
       "  {'n_estimators': 7},\n",
       "  {'n_estimators': 9}],\n",
       " 'split0_test_score': array([-1060.92924155,  -925.93462665,  -816.71643909,  -726.79225485,\n",
       "         -653.37410887]),\n",
       " 'split1_test_score': array([-1106.74819785,  -967.29574253,  -852.04644694,  -758.65203754,\n",
       "         -680.46263748]),\n",
       " 'split2_test_score': array([-1063.5706073 ,  -928.76888642,  -819.23822856,  -728.1830544 ,\n",
       "         -653.72132049]),\n",
       " 'split3_test_score': array([-1025.09991072,  -894.26861865,  -786.26669745,  -698.10146031,\n",
       "         -625.46426552]),\n",
       " 'split4_test_score': array([-1138.24187908,  -997.92427415,  -883.78359246,  -790.20946772,\n",
       "         -712.07147921]),\n",
       " 'split5_test_score': array([-1116.53372809,  -975.17082085,  -858.67807581,  -762.91428515,\n",
       "         -683.04356339]),\n",
       " 'split6_test_score': array([-1075.56339665,  -940.28180816,  -829.57413692,  -738.93035103,\n",
       "         -664.32524196]),\n",
       " 'split7_test_score': array([-1093.78123686,  -955.54635614,  -842.06735433,  -748.01395737,\n",
       "         -670.50850258]),\n",
       " 'split8_test_score': array([-1101.7010439 ,  -961.89239868,  -848.29280333,  -754.84134628,\n",
       "         -677.38150621]),\n",
       " 'split9_test_score': array([-1149.48616347, -1007.86544791,  -890.87430806,  -794.45138943,\n",
       "         -714.07980164]),\n",
       " 'mean_test_score': array([-1093.16554054,  -955.49489801,  -842.7538083 ,  -750.10896041,\n",
       "         -673.44324274]),\n",
       " 'std_test_score': array([35.86849315, 32.67788811, 29.9425071 , 27.73481964, 25.46738266]),\n",
       " 'rank_test_score': array([5, 4, 3, 2, 1])}"
      ]
     },
     "execution_count": 157,
     "metadata": {},
     "output_type": "execute_result"
    }
   ],
   "source": [
    "gridc.cv_results_"
   ]
  },
  {
   "cell_type": "code",
   "execution_count": 158,
   "id": "useful-patch",
   "metadata": {
    "ExecuteTime": {
     "end_time": "2021-11-13T07:25:24.925699Z",
     "start_time": "2021-11-13T07:25:24.913704Z"
    }
   },
   "outputs": [],
   "source": [
    "params=gridc.cv_results_['params']\n",
    "n_est=[i['n_estimators'] for i in params]\n",
    "score=gridc.cv_results_[\"mean_test_score\"]"
   ]
  },
  {
   "cell_type": "code",
   "execution_count": 159,
   "id": "mighty-kingdom",
   "metadata": {
    "ExecuteTime": {
     "end_time": "2021-11-13T07:25:25.442749Z",
     "start_time": "2021-11-13T07:25:25.306697Z"
    }
   },
   "outputs": [
    {
     "data": {
      "text/plain": [
       "[<matplotlib.lines.Line2D at 0x24bb37f5850>]"
      ]
     },
     "execution_count": 159,
     "metadata": {},
     "output_type": "execute_result"
    },
    {
     "data": {
      "image/png": "[encoded data removed]",
      "text/plain": [
       "<Figure size 432x288 with 1 Axes>"
      ]
     },
     "metadata": {
      "needs_background": "light"
     },
     "output_type": "display_data"
    }
   ],
   "source": [
    "plt.plot(n_est,score)"
   ]
  },
  {
   "cell_type": "code",
   "execution_count": 160,
   "id": "formed-ultimate",
   "metadata": {
    "ExecuteTime": {
     "end_time": "2021-11-13T07:25:25.849284Z",
     "start_time": "2021-11-13T07:25:25.835250Z"
    }
   },
   "outputs": [
    {
     "data": {
      "text/plain": [
       "GradientBoostingRegressor(learning_rate=0.05, n_estimators=9)"
      ]
     },
     "execution_count": 160,
     "metadata": {},
     "output_type": "execute_result"
    }
   ],
   "source": [
    "gridc.best_estimator_"
   ]
  },
  {
   "cell_type": "markdown",
   "id": "palestinian-twelve",
   "metadata": {},
   "source": [
    "# Question 2"
   ]
  },
  {
   "cell_type": "code",
   "execution_count": null,
   "id": "general-partition",
   "metadata": {},
   "outputs": [],
   "source": [
    "grid_res=[grida,gridb,gridc]\n",
    "grida.best_params_"
   ]
  },
  {
   "cell_type": "code",
   "execution_count": 183,
   "id": "retained-gender",
   "metadata": {
    "ExecuteTime": {
     "end_time": "2021-11-13T07:45:38.643630Z",
     "start_time": "2021-11-13T07:45:38.624585Z"
    }
   },
   "outputs": [
    {
     "data": {
      "text/plain": [
       "[{'l1_ratio': 0.0}, {'max_depth': 30, 'n_estimators': 9}, {'n_estimators': 9}]"
      ]
     },
     "execution_count": 183,
     "metadata": {},
     "output_type": "execute_result"
    }
   ],
   "source": [
    "grid_res=[grida,gridb,gridc]\n",
    "best_params=[gr.best_params_ for gr in grid_res]\n",
    "best_params"
   ]
  },
  {
   "cell_type": "code",
   "execution_count": 186,
   "id": "economic-single",
   "metadata": {
    "ExecuteTime": {
     "end_time": "2021-11-13T07:48:42.728875Z",
     "start_time": "2021-11-13T07:48:33.502618Z"
    }
   },
   "outputs": [],
   "source": [
    "model1=ElasticNet(**best_params[0])\n",
    "model2=RandomForestRegressor(**best_params[1])\n",
    "model3=GradientBoostingRegressor(**best_params[2])\n",
    "best_model=[model1,model2,model3]\n",
    "for i in best_model:\n",
    "    i.fit(train_x,train_y)\n",
    "y_pre=[]\n",
    "valid_x,valid_y=split_x_y(valid,'critical_temp')\n",
    "for model in best_model:\n",
    "    y_pre.append(model.predict(valid_x))"
   ]
  },
  {
   "cell_type": "code",
   "execution_count": 189,
   "id": "adolescent-audio",
   "metadata": {
    "ExecuteTime": {
     "end_time": "2021-11-13T07:49:02.550358Z",
     "start_time": "2021-11-13T07:49:02.532967Z"
    }
   },
   "outputs": [],
   "source": [
    "loss=[]\n",
    "for y in y_pre:\n",
    "    loss.append(mean_squared_error(y,valid_y))"
   ]
  },
  {
   "cell_type": "code",
   "execution_count": 200,
   "id": "noted-vancouver",
   "metadata": {
    "ExecuteTime": {
     "end_time": "2021-11-13T07:56:23.677255Z",
     "start_time": "2021-11-13T07:56:23.657279Z"
    }
   },
   "outputs": [
    {
     "data": {
      "text/html": [
       "<div>\n",
       "<style scoped>\n",
       "    .dataframe tbody tr th:only-of-type {\n",
       "        vertical-align: middle;\n",
       "    }\n",
       "\n",
       "    .dataframe tbody tr th {\n",
       "        vertical-align: top;\n",
       "    }\n",
       "\n",
       "    .dataframe thead th {\n",
       "        text-align: right;\n",
       "    }\n",
       "</style>\n",
       "<table border=\"1\" class=\"dataframe\">\n",
       "  <thead>\n",
       "    <tr style=\"text-align: right;\">\n",
       "      <th></th>\n",
       "      <th>ElasticNet</th>\n",
       "      <th>RandomForestRegressor</th>\n",
       "      <th>GradientBoostingRegressor</th>\n",
       "    </tr>\n",
       "  </thead>\n",
       "  <tbody>\n",
       "    <tr>\n",
       "      <th>0</th>\n",
       "      <td>317.685942</td>\n",
       "      <td>88.614656</td>\n",
       "      <td>440.143726</td>\n",
       "    </tr>\n",
       "  </tbody>\n",
       "</table>\n",
       "</div>"
      ],
      "text/plain": [
       "   ElasticNet  RandomForestRegressor  GradientBoostingRegressor\n",
       "0  317.685942              88.614656                 440.143726"
      ]
     },
     "execution_count": 200,
     "metadata": {},
     "output_type": "execute_result"
    }
   ],
   "source": [
    "table=pd.DataFrame(columns=['ElasticNet','RandomForestRegressor','GradientBoostingRegressor'])\n",
    "table.loc[0]=loss\n",
    "table"
   ]
  },
  {
   "cell_type": "code",
   "execution_count": 201,
   "id": "local-collapse",
   "metadata": {
    "ExecuteTime": {
     "end_time": "2021-11-13T07:58:11.990372Z",
     "start_time": "2021-11-13T07:58:11.969374Z"
    }
   },
   "outputs": [],
   "source": [
    "# best model is RandomForestRegressor\n",
    "best=best_model[1]\n",
    "test_x,test_y=split_x_y(test,\"critical_temp\")\n",
    "res=best.predict(test_x)"
   ]
  },
  {
   "cell_type": "code",
   "execution_count": 202,
   "id": "bizarre-spread",
   "metadata": {
    "ExecuteTime": {
     "end_time": "2021-11-13T07:58:14.894097Z",
     "start_time": "2021-11-13T07:58:14.885980Z"
    }
   },
   "outputs": [
    {
     "data": {
      "text/plain": [
       "array([ 1.05111111, 18.03222222, 59.0262963 , ...,  8.49666667,\n",
       "        4.79444444, 72.91666667])"
      ]
     },
     "execution_count": 202,
     "metadata": {},
     "output_type": "execute_result"
    }
   ],
   "source": [
    "res"
   ]
  },
  {
   "cell_type": "code",
   "execution_count": 203,
   "id": "prime-maintenance",
   "metadata": {
    "ExecuteTime": {
     "end_time": "2021-11-13T07:59:31.392084Z",
     "start_time": "2021-11-13T07:59:31.379972Z"
    }
   },
   "outputs": [
    {
     "data": {
      "text/plain": [
       "91.2888516186951"
      ]
     },
     "execution_count": 203,
     "metadata": {},
     "output_type": "execute_result"
    }
   ],
   "source": [
    "# the corresponding MSE is 91.28\n",
    "mean_squared_error(res,test_y)"
   ]
  },
  {
   "cell_type": "code",
   "execution_count": null,
   "id": "complicated-anniversary",
   "metadata": {},
   "outputs": [],
   "source": []
  }
 ],
 "metadata": {
  "jupytext": {
   "formats": "ipynb,md"
  },
  "kernelspec": {
   "display_name": "Python [conda env:root] *",
   "language": "python",
   "name": "conda-root-py"
  },
  "language_info": {
   "codemirror_mode": {
    "name": "ipython",
    "version": 3
   },
   "file_extension": ".py",
   "mimetype": "text/x-python",
   "name": "python",
   "nbconvert_exporter": "python",
   "pygments_lexer": "ipython3",
   "version": "3.8.5"
  },
  "varInspector": {
   "cols": {
    "lenName": 16,
    "lenType": 16,
    "lenVar": 40
   },
   "kernels_config": {
    "python": {
     "delete_cmd_postfix": "",
     "delete_cmd_prefix": "del ",
     "library": "var_list.py",
     "varRefreshCmd": "print(var_dic_list())"
    },
    "r": {
     "delete_cmd_postfix": ") ",
     "delete_cmd_prefix": "rm(",
     "library": "var_list.r",
     "varRefreshCmd": "cat(var_dic_list()) "
    }
   },
   "types_to_exclude": [
    "module",
    "function",
    "builtin_function_or_method",
    "instance",
    "_Feature"
   ],
   "window_display": false
  }
 },
 "nbformat": 4,
 "nbformat_minor": 5
}
